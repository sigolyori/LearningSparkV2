{
 "cells": [
  {
   "cell_type": "code",
   "execution_count": 1,
   "metadata": {},
   "outputs": [],
   "source": [
    "from pyspark.sql import SparkSession\n",
    "from pyspark.sql.functions import avg"
   ]
  },
  {
   "cell_type": "code",
   "execution_count": 2,
   "metadata": {},
   "outputs": [
    {
     "name": "stdout",
     "output_type": "stream",
     "text": [
      "22/10/04 15:12:08 WARN Utils: Your hostname, 127.0.0.1 resolves to a loopback address: 127.0.0.1; using 192.168.35.50 instead (on interface en0)\n",
      "22/10/04 15:12:08 WARN Utils: Set SPARK_LOCAL_IP if you need to bind to another address\n"
     ]
    },
    {
     "name": "stderr",
     "output_type": "stream",
     "text": [
      "Setting default log level to \"WARN\".\n",
      "To adjust logging level use sc.setLogLevel(newLevel). For SparkR, use setLogLevel(newLevel).\n"
     ]
    },
    {
     "name": "stdout",
     "output_type": "stream",
     "text": [
      "22/10/04 15:12:09 WARN NativeCodeLoader: Unable to load native-hadoop library for your platform... using builtin-java classes where applicable\n"
     ]
    }
   ],
   "source": [
    "spark = (SparkSession\n",
    "        .builder\n",
    "        .appName('AuthorsAges')\n",
    "        .getOrCreate())"
   ]
  },
  {
   "cell_type": "code",
   "execution_count": 5,
   "metadata": {},
   "outputs": [],
   "source": [
    "data_df = spark.createDataFrame([('Brooke', 20), ('Denny', 31), ('Jules', 30), ('TD', 35), ('Brooke', 25)], ['name', 'age'])"
   ]
  },
  {
   "cell_type": "code",
   "execution_count": 8,
   "metadata": {},
   "outputs": [],
   "source": [
    "avg_df = data_df.groupBy('name').agg(avg('age'))"
   ]
  },
  {
   "cell_type": "code",
   "execution_count": 9,
   "metadata": {},
   "outputs": [
    {
     "name": "stdout",
     "output_type": "stream",
     "text": [
      "+------+--------+\n",
      "|  name|avg(age)|\n",
      "+------+--------+\n",
      "|Brooke|    22.5|\n",
      "| Denny|    31.0|\n",
      "| Jules|    30.0|\n",
      "|    TD|    35.0|\n",
      "+------+--------+\n",
      "\n"
     ]
    }
   ],
   "source": [
    "avg_df.show()"
   ]
  },
  {
   "cell_type": "code",
   "execution_count": 10,
   "metadata": {},
   "outputs": [],
   "source": [
    "from pyspark.sql.types import *\n",
    "from pyspark.sql import SparkSession\n",
    "from pyspark.sql.functions import *\n",
    "\n",
    "# define schema for our data\n",
    "schema = StructType([\n",
    "   StructField(\"Id\", IntegerType(), False),\n",
    "   StructField(\"First\", StringType(), False),\n",
    "   StructField(\"Last\", StringType(), False),\n",
    "   StructField(\"Url\", StringType(), False),\n",
    "   StructField(\"Published\", StringType(), False),\n",
    "   StructField(\"Hits\", IntegerType(), False),\n",
    "   StructField(\"Campaigns\", ArrayType(StringType()), False)])\n",
    "\n",
    "#create our data\n",
    "data = [[1, \"Jules\", \"Damji\", \"https://tinyurl.1\", \"1/4/2016\", 4535, [\"twitter\", \"LinkedIn\"]],\n",
    "       [2, \"Brooke\",\"Wenig\",\"https://tinyurl.2\", \"5/5/2018\", 8908, [\"twitter\", \"LinkedIn\"]],\n",
    "       [3, \"Denny\", \"Lee\", \"https://tinyurl.3\",\"6/7/2019\",7659, [\"web\", \"twitter\", \"FB\", \"LinkedIn\"]],\n",
    "       [4, \"Tathagata\", \"Das\",\"https://tinyurl.4\", \"5/12/2018\", 10568, [\"twitter\", \"FB\"]],\n",
    "       [5, \"Matei\",\"Zaharia\", \"https://tinyurl.5\", \"5/14/2014\", 40578, [\"web\", \"twitter\", \"FB\", \"LinkedIn\"]],\n",
    "       [6, \"Reynold\", \"Xin\", \"https://tinyurl.6\", \"3/2/2015\", 25568, [\"twitter\", \"LinkedIn\"]]\n",
    "      ]\n"
   ]
  },
  {
   "cell_type": "code",
   "execution_count": 11,
   "metadata": {},
   "outputs": [
    {
     "name": "stdout",
     "output_type": "stream",
     "text": [
      "22/10/04 15:30:41 WARN SparkSession: Using an existing Spark session; only runtime SQL configurations will take effect.\n"
     ]
    }
   ],
   "source": [
    "spark = (SparkSession\n",
    "       .builder\n",
    "       .appName(\"Example-3_6\")\n",
    "       .getOrCreate())\n",
    "       "
   ]
  },
  {
   "cell_type": "code",
   "execution_count": 12,
   "metadata": {},
   "outputs": [],
   "source": [
    "blogs_df = spark.createDataFrame(data, schema)"
   ]
  },
  {
   "cell_type": "code",
   "execution_count": 13,
   "metadata": {},
   "outputs": [
    {
     "name": "stdout",
     "output_type": "stream",
     "text": [
      "+---+---------+-------+-----------------+---------+-----+--------------------+\n",
      "| Id|    First|   Last|              Url|Published| Hits|           Campaigns|\n",
      "+---+---------+-------+-----------------+---------+-----+--------------------+\n",
      "|  1|    Jules|  Damji|https://tinyurl.1| 1/4/2016| 4535| [twitter, LinkedIn]|\n",
      "|  2|   Brooke|  Wenig|https://tinyurl.2| 5/5/2018| 8908| [twitter, LinkedIn]|\n",
      "|  3|    Denny|    Lee|https://tinyurl.3| 6/7/2019| 7659|[web, twitter, FB...|\n",
      "|  4|Tathagata|    Das|https://tinyurl.4|5/12/2018|10568|       [twitter, FB]|\n",
      "|  5|    Matei|Zaharia|https://tinyurl.5|5/14/2014|40578|[web, twitter, FB...|\n",
      "|  6|  Reynold|    Xin|https://tinyurl.6| 3/2/2015|25568| [twitter, LinkedIn]|\n",
      "+---+---------+-------+-----------------+---------+-----+--------------------+\n",
      "\n"
     ]
    }
   ],
   "source": [
    "blogs_df.show()"
   ]
  },
  {
   "cell_type": "code",
   "execution_count": 14,
   "metadata": {},
   "outputs": [
    {
     "name": "stdout",
     "output_type": "stream",
     "text": [
      "root\n",
      " |-- Id: integer (nullable = false)\n",
      " |-- First: string (nullable = false)\n",
      " |-- Last: string (nullable = false)\n",
      " |-- Url: string (nullable = false)\n",
      " |-- Published: string (nullable = false)\n",
      " |-- Hits: integer (nullable = false)\n",
      " |-- Campaigns: array (nullable = false)\n",
      " |    |-- element: string (containsNull = true)\n",
      "\n",
      "None\n"
     ]
    }
   ],
   "source": [
    "print(blogs_df.printSchema())"
   ]
  },
  {
   "cell_type": "code",
   "execution_count": 16,
   "metadata": {},
   "outputs": [
    {
     "name": "stdout",
     "output_type": "stream",
     "text": [
      "+----------+\n",
      "|(Hits * 2)|\n",
      "+----------+\n",
      "|      9070|\n",
      "|     17816|\n",
      "+----------+\n",
      "only showing top 2 rows\n",
      "\n"
     ]
    }
   ],
   "source": [
    "blogs_df.select(col('Hits') * 2).show(2)"
   ]
  },
  {
   "cell_type": "code",
   "execution_count": 17,
   "metadata": {},
   "outputs": [
    {
     "name": "stdout",
     "output_type": "stream",
     "text": [
      "+---+---------+-------+-----------------+---------+-----+--------------------+-----------+\n",
      "| Id|    First|   Last|              Url|Published| Hits|           Campaigns|Big Hitters|\n",
      "+---+---------+-------+-----------------+---------+-----+--------------------+-----------+\n",
      "|  1|    Jules|  Damji|https://tinyurl.1| 1/4/2016| 4535| [twitter, LinkedIn]|      false|\n",
      "|  2|   Brooke|  Wenig|https://tinyurl.2| 5/5/2018| 8908| [twitter, LinkedIn]|      false|\n",
      "|  3|    Denny|    Lee|https://tinyurl.3| 6/7/2019| 7659|[web, twitter, FB...|      false|\n",
      "|  4|Tathagata|    Das|https://tinyurl.4|5/12/2018|10568|       [twitter, FB]|       true|\n",
      "|  5|    Matei|Zaharia|https://tinyurl.5|5/14/2014|40578|[web, twitter, FB...|       true|\n",
      "|  6|  Reynold|    Xin|https://tinyurl.6| 3/2/2015|25568| [twitter, LinkedIn]|       true|\n",
      "+---+---------+-------+-----------------+---------+-----+--------------------+-----------+\n",
      "\n"
     ]
    }
   ],
   "source": [
    "blogs_df.withColumn('Big Hitters', (expr('Hits > 10000'))).show()"
   ]
  },
  {
   "cell_type": "code",
   "execution_count": 2,
   "metadata": {},
   "outputs": [],
   "source": [
    "import pandas as pd"
   ]
  },
  {
   "cell_type": "code",
   "execution_count": 3,
   "metadata": {},
   "outputs": [
    {
     "data": {
      "text/plain": [
       "'/Users/hyk/Documents/LearningSparkV2/chapter3/py/src'"
      ]
     },
     "execution_count": 3,
     "metadata": {},
     "output_type": "execute_result"
    }
   ],
   "source": [
    "os.getcwd()"
   ]
  },
  {
   "cell_type": "code",
   "execution_count": 5,
   "metadata": {},
   "outputs": [],
   "source": [
    "temp = pd.read_csv('../../data/sf-fire-calls.csv', nrows = 100)"
   ]
  },
  {
   "cell_type": "code",
   "execution_count": 6,
   "metadata": {},
   "outputs": [
    {
     "data": {
      "text/html": [
       "<div>\n",
       "<style scoped>\n",
       "    .dataframe tbody tr th:only-of-type {\n",
       "        vertical-align: middle;\n",
       "    }\n",
       "\n",
       "    .dataframe tbody tr th {\n",
       "        vertical-align: top;\n",
       "    }\n",
       "\n",
       "    .dataframe thead th {\n",
       "        text-align: right;\n",
       "    }\n",
       "</style>\n",
       "<table border=\"1\" class=\"dataframe\">\n",
       "  <thead>\n",
       "    <tr style=\"text-align: right;\">\n",
       "      <th></th>\n",
       "      <th>CallNumber</th>\n",
       "      <th>UnitID</th>\n",
       "      <th>IncidentNumber</th>\n",
       "      <th>CallType</th>\n",
       "      <th>CallDate</th>\n",
       "      <th>WatchDate</th>\n",
       "      <th>CallFinalDisposition</th>\n",
       "      <th>AvailableDtTm</th>\n",
       "      <th>Address</th>\n",
       "      <th>City</th>\n",
       "      <th>...</th>\n",
       "      <th>CallTypeGroup</th>\n",
       "      <th>NumAlarms</th>\n",
       "      <th>UnitType</th>\n",
       "      <th>UnitSequenceInCallDispatch</th>\n",
       "      <th>FirePreventionDistrict</th>\n",
       "      <th>SupervisorDistrict</th>\n",
       "      <th>Neighborhood</th>\n",
       "      <th>Location</th>\n",
       "      <th>RowID</th>\n",
       "      <th>Delay</th>\n",
       "    </tr>\n",
       "  </thead>\n",
       "  <tbody>\n",
       "    <tr>\n",
       "      <th>0</th>\n",
       "      <td>20110016</td>\n",
       "      <td>T13</td>\n",
       "      <td>2003235</td>\n",
       "      <td>Structure Fire</td>\n",
       "      <td>01/11/2002</td>\n",
       "      <td>01/10/2002</td>\n",
       "      <td>Other</td>\n",
       "      <td>01/11/2002 01:51:44 AM</td>\n",
       "      <td>2000 Block of CALIFORNIA ST</td>\n",
       "      <td>SF</td>\n",
       "      <td>...</td>\n",
       "      <td>NaN</td>\n",
       "      <td>1</td>\n",
       "      <td>TRUCK</td>\n",
       "      <td>2</td>\n",
       "      <td>4</td>\n",
       "      <td>5</td>\n",
       "      <td>Pacific Heights</td>\n",
       "      <td>(37.7895840679362, -122.428071912459)</td>\n",
       "      <td>020110016-T13</td>\n",
       "      <td>2.950000</td>\n",
       "    </tr>\n",
       "    <tr>\n",
       "      <th>1</th>\n",
       "      <td>20110022</td>\n",
       "      <td>M17</td>\n",
       "      <td>2003241</td>\n",
       "      <td>Medical Incident</td>\n",
       "      <td>01/11/2002</td>\n",
       "      <td>01/10/2002</td>\n",
       "      <td>Other</td>\n",
       "      <td>01/11/2002 03:01:18 AM</td>\n",
       "      <td>0 Block of SILVERVIEW DR</td>\n",
       "      <td>SF</td>\n",
       "      <td>...</td>\n",
       "      <td>NaN</td>\n",
       "      <td>1</td>\n",
       "      <td>MEDIC</td>\n",
       "      <td>1</td>\n",
       "      <td>10</td>\n",
       "      <td>10</td>\n",
       "      <td>Bayview Hunters Point</td>\n",
       "      <td>(37.7337623673897, -122.396113802632)</td>\n",
       "      <td>020110022-M17</td>\n",
       "      <td>4.700000</td>\n",
       "    </tr>\n",
       "    <tr>\n",
       "      <th>2</th>\n",
       "      <td>20110023</td>\n",
       "      <td>M41</td>\n",
       "      <td>2003242</td>\n",
       "      <td>Medical Incident</td>\n",
       "      <td>01/11/2002</td>\n",
       "      <td>01/10/2002</td>\n",
       "      <td>Other</td>\n",
       "      <td>01/11/2002 02:39:50 AM</td>\n",
       "      <td>MARKET ST/MCALLISTER ST</td>\n",
       "      <td>SF</td>\n",
       "      <td>...</td>\n",
       "      <td>NaN</td>\n",
       "      <td>1</td>\n",
       "      <td>MEDIC</td>\n",
       "      <td>2</td>\n",
       "      <td>3</td>\n",
       "      <td>6</td>\n",
       "      <td>Tenderloin</td>\n",
       "      <td>(37.7811772186856, -122.411699931232)</td>\n",
       "      <td>020110023-M41</td>\n",
       "      <td>2.433333</td>\n",
       "    </tr>\n",
       "    <tr>\n",
       "      <th>3</th>\n",
       "      <td>20110032</td>\n",
       "      <td>E11</td>\n",
       "      <td>2003250</td>\n",
       "      <td>Vehicle Fire</td>\n",
       "      <td>01/11/2002</td>\n",
       "      <td>01/10/2002</td>\n",
       "      <td>Other</td>\n",
       "      <td>01/11/2002 04:16:46 AM</td>\n",
       "      <td>APPLETON AV/MISSION ST</td>\n",
       "      <td>SF</td>\n",
       "      <td>...</td>\n",
       "      <td>NaN</td>\n",
       "      <td>1</td>\n",
       "      <td>ENGINE</td>\n",
       "      <td>1</td>\n",
       "      <td>6</td>\n",
       "      <td>9</td>\n",
       "      <td>Bernal Heights</td>\n",
       "      <td>(37.7388432849018, -122.423948785199)</td>\n",
       "      <td>020110032-E11</td>\n",
       "      <td>1.500000</td>\n",
       "    </tr>\n",
       "    <tr>\n",
       "      <th>4</th>\n",
       "      <td>20110043</td>\n",
       "      <td>B04</td>\n",
       "      <td>2003259</td>\n",
       "      <td>Alarms</td>\n",
       "      <td>01/11/2002</td>\n",
       "      <td>01/10/2002</td>\n",
       "      <td>Other</td>\n",
       "      <td>01/11/2002 06:01:58 AM</td>\n",
       "      <td>1400 Block of SUTTER ST</td>\n",
       "      <td>SF</td>\n",
       "      <td>...</td>\n",
       "      <td>NaN</td>\n",
       "      <td>1</td>\n",
       "      <td>CHIEF</td>\n",
       "      <td>2</td>\n",
       "      <td>4</td>\n",
       "      <td>2</td>\n",
       "      <td>Western Addition</td>\n",
       "      <td>(37.7872890372638, -122.424236212664)</td>\n",
       "      <td>020110043-B04</td>\n",
       "      <td>3.483333</td>\n",
       "    </tr>\n",
       "    <tr>\n",
       "      <th>...</th>\n",
       "      <td>...</td>\n",
       "      <td>...</td>\n",
       "      <td>...</td>\n",
       "      <td>...</td>\n",
       "      <td>...</td>\n",
       "      <td>...</td>\n",
       "      <td>...</td>\n",
       "      <td>...</td>\n",
       "      <td>...</td>\n",
       "      <td>...</td>\n",
       "      <td>...</td>\n",
       "      <td>...</td>\n",
       "      <td>...</td>\n",
       "      <td>...</td>\n",
       "      <td>...</td>\n",
       "      <td>...</td>\n",
       "      <td>...</td>\n",
       "      <td>...</td>\n",
       "      <td>...</td>\n",
       "      <td>...</td>\n",
       "      <td>...</td>\n",
       "    </tr>\n",
       "    <tr>\n",
       "      <th>95</th>\n",
       "      <td>20150004</td>\n",
       "      <td>94</td>\n",
       "      <td>2004370</td>\n",
       "      <td>Medical Incident</td>\n",
       "      <td>01/15/2002</td>\n",
       "      <td>01/14/2002</td>\n",
       "      <td>Other</td>\n",
       "      <td>01/15/2002 01:26:45 AM</td>\n",
       "      <td>5TH ST/MARKET ST</td>\n",
       "      <td>SF</td>\n",
       "      <td>...</td>\n",
       "      <td>NaN</td>\n",
       "      <td>1</td>\n",
       "      <td>MEDIC</td>\n",
       "      <td>1</td>\n",
       "      <td>3</td>\n",
       "      <td>6</td>\n",
       "      <td>South of Market</td>\n",
       "      <td>(37.7839914857614, -122.408066547804)</td>\n",
       "      <td>020150004-94</td>\n",
       "      <td>1.250000</td>\n",
       "    </tr>\n",
       "    <tr>\n",
       "      <th>96</th>\n",
       "      <td>20150048</td>\n",
       "      <td>RC2</td>\n",
       "      <td>2004404</td>\n",
       "      <td>Structure Fire</td>\n",
       "      <td>01/15/2002</td>\n",
       "      <td>01/14/2002</td>\n",
       "      <td>Other</td>\n",
       "      <td>01/15/2002 06:31:24 AM</td>\n",
       "      <td>700 Block of 35TH AVE</td>\n",
       "      <td>SF</td>\n",
       "      <td>...</td>\n",
       "      <td>NaN</td>\n",
       "      <td>1</td>\n",
       "      <td>RESCUE CAPTAIN</td>\n",
       "      <td>10</td>\n",
       "      <td>7</td>\n",
       "      <td>1</td>\n",
       "      <td>Outer Richmond</td>\n",
       "      <td>(37.7748832270511, -122.495037870754)</td>\n",
       "      <td>020150048-RC2</td>\n",
       "      <td>3.533333</td>\n",
       "    </tr>\n",
       "    <tr>\n",
       "      <th>97</th>\n",
       "      <td>20150048</td>\n",
       "      <td>RS1</td>\n",
       "      <td>2004404</td>\n",
       "      <td>Structure Fire</td>\n",
       "      <td>01/15/2002</td>\n",
       "      <td>01/14/2002</td>\n",
       "      <td>Other</td>\n",
       "      <td>01/15/2002 06:31:24 AM</td>\n",
       "      <td>700 Block of 35TH AVE</td>\n",
       "      <td>SF</td>\n",
       "      <td>...</td>\n",
       "      <td>NaN</td>\n",
       "      <td>1</td>\n",
       "      <td>RESCUE SQUAD</td>\n",
       "      <td>11</td>\n",
       "      <td>7</td>\n",
       "      <td>1</td>\n",
       "      <td>Outer Richmond</td>\n",
       "      <td>(37.7748832270511, -122.495037870754)</td>\n",
       "      <td>020150048-RS1</td>\n",
       "      <td>1.933333</td>\n",
       "    </tr>\n",
       "    <tr>\n",
       "      <th>98</th>\n",
       "      <td>20150056</td>\n",
       "      <td>E35</td>\n",
       "      <td>2004408</td>\n",
       "      <td>Medical Incident</td>\n",
       "      <td>01/15/2002</td>\n",
       "      <td>01/14/2002</td>\n",
       "      <td>Other</td>\n",
       "      <td>01/15/2002 06:53:38 AM</td>\n",
       "      <td>100 Block of 7TH ST</td>\n",
       "      <td>SF</td>\n",
       "      <td>...</td>\n",
       "      <td>NaN</td>\n",
       "      <td>1</td>\n",
       "      <td>ENGINE</td>\n",
       "      <td>2</td>\n",
       "      <td>3</td>\n",
       "      <td>6</td>\n",
       "      <td>South of Market</td>\n",
       "      <td>(37.7790372933741, -122.41062000696)</td>\n",
       "      <td>020150056-E35</td>\n",
       "      <td>11.916667</td>\n",
       "    </tr>\n",
       "    <tr>\n",
       "      <th>99</th>\n",
       "      <td>20150062</td>\n",
       "      <td>B01</td>\n",
       "      <td>2004412</td>\n",
       "      <td>Alarms</td>\n",
       "      <td>01/15/2002</td>\n",
       "      <td>01/14/2002</td>\n",
       "      <td>Other</td>\n",
       "      <td>01/15/2002 07:21:10 AM</td>\n",
       "      <td>100 Block of FRANCISCO ST</td>\n",
       "      <td>SF</td>\n",
       "      <td>...</td>\n",
       "      <td>NaN</td>\n",
       "      <td>1</td>\n",
       "      <td>CHIEF</td>\n",
       "      <td>2</td>\n",
       "      <td>1</td>\n",
       "      <td>3</td>\n",
       "      <td>North Beach</td>\n",
       "      <td>(37.8054738067872, -122.407570127181)</td>\n",
       "      <td>020150062-B01</td>\n",
       "      <td>1.883333</td>\n",
       "    </tr>\n",
       "  </tbody>\n",
       "</table>\n",
       "<p>100 rows × 28 columns</p>\n",
       "</div>"
      ],
      "text/plain": [
       "    CallNumber UnitID  IncidentNumber          CallType    CallDate  \\\n",
       "0     20110016    T13         2003235    Structure Fire  01/11/2002   \n",
       "1     20110022    M17         2003241  Medical Incident  01/11/2002   \n",
       "2     20110023    M41         2003242  Medical Incident  01/11/2002   \n",
       "3     20110032    E11         2003250      Vehicle Fire  01/11/2002   \n",
       "4     20110043    B04         2003259            Alarms  01/11/2002   \n",
       "..         ...    ...             ...               ...         ...   \n",
       "95    20150004     94         2004370  Medical Incident  01/15/2002   \n",
       "96    20150048    RC2         2004404    Structure Fire  01/15/2002   \n",
       "97    20150048    RS1         2004404    Structure Fire  01/15/2002   \n",
       "98    20150056    E35         2004408  Medical Incident  01/15/2002   \n",
       "99    20150062    B01         2004412            Alarms  01/15/2002   \n",
       "\n",
       "     WatchDate CallFinalDisposition           AvailableDtTm  \\\n",
       "0   01/10/2002                Other  01/11/2002 01:51:44 AM   \n",
       "1   01/10/2002                Other  01/11/2002 03:01:18 AM   \n",
       "2   01/10/2002                Other  01/11/2002 02:39:50 AM   \n",
       "3   01/10/2002                Other  01/11/2002 04:16:46 AM   \n",
       "4   01/10/2002                Other  01/11/2002 06:01:58 AM   \n",
       "..         ...                  ...                     ...   \n",
       "95  01/14/2002                Other  01/15/2002 01:26:45 AM   \n",
       "96  01/14/2002                Other  01/15/2002 06:31:24 AM   \n",
       "97  01/14/2002                Other  01/15/2002 06:31:24 AM   \n",
       "98  01/14/2002                Other  01/15/2002 06:53:38 AM   \n",
       "99  01/14/2002                Other  01/15/2002 07:21:10 AM   \n",
       "\n",
       "                        Address City  ...  CallTypeGroup NumAlarms  \\\n",
       "0   2000 Block of CALIFORNIA ST   SF  ...            NaN         1   \n",
       "1      0 Block of SILVERVIEW DR   SF  ...            NaN         1   \n",
       "2       MARKET ST/MCALLISTER ST   SF  ...            NaN         1   \n",
       "3        APPLETON AV/MISSION ST   SF  ...            NaN         1   \n",
       "4       1400 Block of SUTTER ST   SF  ...            NaN         1   \n",
       "..                          ...  ...  ...            ...       ...   \n",
       "95             5TH ST/MARKET ST   SF  ...            NaN         1   \n",
       "96        700 Block of 35TH AVE   SF  ...            NaN         1   \n",
       "97        700 Block of 35TH AVE   SF  ...            NaN         1   \n",
       "98          100 Block of 7TH ST   SF  ...            NaN         1   \n",
       "99    100 Block of FRANCISCO ST   SF  ...            NaN         1   \n",
       "\n",
       "          UnitType  UnitSequenceInCallDispatch FirePreventionDistrict  \\\n",
       "0            TRUCK                           2                      4   \n",
       "1            MEDIC                           1                     10   \n",
       "2            MEDIC                           2                      3   \n",
       "3           ENGINE                           1                      6   \n",
       "4            CHIEF                           2                      4   \n",
       "..             ...                         ...                    ...   \n",
       "95           MEDIC                           1                      3   \n",
       "96  RESCUE CAPTAIN                          10                      7   \n",
       "97    RESCUE SQUAD                          11                      7   \n",
       "98          ENGINE                           2                      3   \n",
       "99           CHIEF                           2                      1   \n",
       "\n",
       "   SupervisorDistrict           Neighborhood  \\\n",
       "0                   5        Pacific Heights   \n",
       "1                  10  Bayview Hunters Point   \n",
       "2                   6             Tenderloin   \n",
       "3                   9         Bernal Heights   \n",
       "4                   2       Western Addition   \n",
       "..                ...                    ...   \n",
       "95                  6        South of Market   \n",
       "96                  1         Outer Richmond   \n",
       "97                  1         Outer Richmond   \n",
       "98                  6        South of Market   \n",
       "99                  3            North Beach   \n",
       "\n",
       "                                 Location          RowID      Delay  \n",
       "0   (37.7895840679362, -122.428071912459)  020110016-T13   2.950000  \n",
       "1   (37.7337623673897, -122.396113802632)  020110022-M17   4.700000  \n",
       "2   (37.7811772186856, -122.411699931232)  020110023-M41   2.433333  \n",
       "3   (37.7388432849018, -122.423948785199)  020110032-E11   1.500000  \n",
       "4   (37.7872890372638, -122.424236212664)  020110043-B04   3.483333  \n",
       "..                                    ...            ...        ...  \n",
       "95  (37.7839914857614, -122.408066547804)   020150004-94   1.250000  \n",
       "96  (37.7748832270511, -122.495037870754)  020150048-RC2   3.533333  \n",
       "97  (37.7748832270511, -122.495037870754)  020150048-RS1   1.933333  \n",
       "98   (37.7790372933741, -122.41062000696)  020150056-E35  11.916667  \n",
       "99  (37.8054738067872, -122.407570127181)  020150062-B01   1.883333  \n",
       "\n",
       "[100 rows x 28 columns]"
      ]
     },
     "execution_count": 6,
     "metadata": {},
     "output_type": "execute_result"
    }
   ],
   "source": [
    "temp"
   ]
  },
  {
   "cell_type": "code",
   "execution_count": 1,
   "metadata": {},
   "outputs": [],
   "source": [
    "from pyspark.sql.types import *"
   ]
  },
  {
   "cell_type": "code",
   "execution_count": 2,
   "metadata": {},
   "outputs": [],
   "source": [
    "fire_schema = StructType([\n",
    "    StructField('CallNumber', IntegerType(), True),\n",
    "    StructField('UnitID', StringType(), True),\n",
    "    StructField('IncidentNumber', IntegerType(), True),\n",
    "    StructField('CallType', StringType(), True),\n",
    "    StructField('CallDate', StringType(), True),\n",
    "    StructField('WatchDate', StringType(), True),\n",
    "    StructField('CallFinalDisposition', StringType(), True),\n",
    "    StructField('AvailableDtTm', StringType(), True),\n",
    "    StructField('Address', StringType(), True),\n",
    "    StructField('City', StringType(), True),\n",
    "    StructField('Zipcode', IntegerType(), True),\n",
    "    StructField('Battalion', StringType(), True),\n",
    "    StructField('StationArea', IntegerType(), True),\n",
    "    StructField('Box', IntegerType(), True),\n",
    "    StructField('OriginalPriority', StringType(), True),\n",
    "    StructField('Priority', StringType(), True),\n",
    "    StructField('FinalPriority', IntegerType(), True),\n",
    "    StructField('ALSUnit', BooleanType(), True),\n",
    "    StructField('CallTypeGroup', FloatType(), True),\n",
    "    StructField('NumAlarms', IntegerType(), True),\n",
    "    StructField('UnitType', StringType(), True),\n",
    "    StructField('UnitSequenceInCallDispatch', IntegerType(), True),\n",
    "    StructField('FirePreventionDistrict', IntegerType(), True),\n",
    "    StructField('SupervisorDistrict', IntegerType(), True),\n",
    "    StructField('Neighborhood', StringType(), True),\n",
    "    StructField('Location', StringType(), True),\n",
    "    StructField('RowID', StringType(), True),\n",
    "    StructField('Delay', FloatType(), True)\n",
    "])"
   ]
  },
  {
   "cell_type": "code",
   "execution_count": 3,
   "metadata": {},
   "outputs": [],
   "source": [
    "sf_fire_file = '../../data/sf-fire-calls.csv'"
   ]
  },
  {
   "cell_type": "code",
   "execution_count": 4,
   "metadata": {},
   "outputs": [],
   "source": [
    "from pyspark.sql import SparkSession"
   ]
  },
  {
   "cell_type": "code",
   "execution_count": 5,
   "metadata": {},
   "outputs": [
    {
     "name": "stdout",
     "output_type": "stream",
     "text": [
      "22/10/20 11:05:07 WARN Utils: Your hostname, hykui-MacBookAir.local resolves to a loopback address: 127.0.0.1; using 192.168.35.67 instead (on interface en0)\n",
      "22/10/20 11:05:07 WARN Utils: Set SPARK_LOCAL_IP if you need to bind to another address\n"
     ]
    },
    {
     "name": "stderr",
     "output_type": "stream",
     "text": [
      "Setting default log level to \"WARN\".\n",
      "To adjust logging level use sc.setLogLevel(newLevel). For SparkR, use setLogLevel(newLevel).\n"
     ]
    },
    {
     "name": "stdout",
     "output_type": "stream",
     "text": [
      "22/10/20 11:05:08 WARN NativeCodeLoader: Unable to load native-hadoop library for your platform... using builtin-java classes where applicable\n"
     ]
    }
   ],
   "source": [
    "spark = (SparkSession\n",
    "        .builder\n",
    "        .appName('fire_schema')\n",
    "        .getOrCreate())"
   ]
  },
  {
   "cell_type": "code",
   "execution_count": 6,
   "metadata": {},
   "outputs": [],
   "source": [
    "fire_df = spark.read.csv(sf_fire_file, header = True, schema = fire_schema)"
   ]
  },
  {
   "cell_type": "code",
   "execution_count": 7,
   "metadata": {},
   "outputs": [],
   "source": [
    "from pyspark.sql.functions import *"
   ]
  },
  {
   "cell_type": "code",
   "execution_count": 23,
   "metadata": {},
   "outputs": [],
   "source": [
    "few_fire_df = (fire_df\n",
    ".select('IncidentNumber', 'AvailableDtTm', 'CallType')\n",
    ".where(col('CallType') != 'Medical Incident'))"
   ]
  },
  {
   "cell_type": "code",
   "execution_count": 24,
   "metadata": {},
   "outputs": [
    {
     "name": "stdout",
     "output_type": "stream",
     "text": [
      "+--------------+----------------------+--------------+\n",
      "|IncidentNumber|AvailableDtTm         |CallType      |\n",
      "+--------------+----------------------+--------------+\n",
      "|2003235       |01/11/2002 01:51:44 AM|Structure Fire|\n",
      "|2003250       |01/11/2002 04:16:46 AM|Vehicle Fire  |\n",
      "|2003259       |01/11/2002 06:01:58 AM|Alarms        |\n",
      "|2003279       |01/11/2002 08:03:26 AM|Structure Fire|\n",
      "|2003301       |01/11/2002 09:46:44 AM|Alarms        |\n",
      "+--------------+----------------------+--------------+\n",
      "only showing top 5 rows\n",
      "\n"
     ]
    }
   ],
   "source": [
    "few_fire_df.show(5, truncate=False)"
   ]
  },
  {
   "cell_type": "code",
   "execution_count": 26,
   "metadata": {},
   "outputs": [
    {
     "name": "stderr",
     "output_type": "stream",
     "text": [
      "[Stage 3:==============>                                            (1 + 3) / 4]\r"
     ]
    },
    {
     "name": "stdout",
     "output_type": "stream",
     "text": [
      "+-----------------+\n",
      "|DisTinctCallTypes|\n",
      "+-----------------+\n",
      "|               30|\n",
      "+-----------------+\n",
      "\n"
     ]
    },
    {
     "name": "stderr",
     "output_type": "stream",
     "text": [
      "                                                                                \r"
     ]
    }
   ],
   "source": [
    "(fire_df\n",
    ".select('CallType')\n",
    ".where(col('CallType').isNotNull())\n",
    ".agg(countDistinct('CallType').alias('DisTinctCallTypes'))\n",
    ".show()\n",
    ")"
   ]
  },
  {
   "cell_type": "code",
   "execution_count": 27,
   "metadata": {},
   "outputs": [
    {
     "name": "stderr",
     "output_type": "stream",
     "text": [
      "[Stage 9:==============>                                            (1 + 3) / 4]\r"
     ]
    },
    {
     "name": "stdout",
     "output_type": "stream",
     "text": [
      "+-----------------------------------+\n",
      "|CallType                           |\n",
      "+-----------------------------------+\n",
      "|Elevator / Escalator Rescue        |\n",
      "|Marine Fire                        |\n",
      "|Aircraft Emergency                 |\n",
      "|Confined Space / Structure Collapse|\n",
      "|Administrative                     |\n",
      "|Alarms                             |\n",
      "|Odor (Strange / Unknown)           |\n",
      "|Citizen Assist / Service Call      |\n",
      "|HazMat                             |\n",
      "|Watercraft in Distress             |\n",
      "+-----------------------------------+\n",
      "only showing top 10 rows\n",
      "\n"
     ]
    },
    {
     "name": "stderr",
     "output_type": "stream",
     "text": [
      "                                                                                \r"
     ]
    }
   ],
   "source": [
    "(fire_df\n",
    "    .select('CallType')\n",
    "    .where(col('CallType').isNotNull())\n",
    "    .distinct()\n",
    "    .show(n = 10, truncate = False)\n",
    ")"
   ]
  },
  {
   "cell_type": "code",
   "execution_count": 16,
   "metadata": {},
   "outputs": [],
   "source": [
    "# rename\n",
    "\n",
    "new_fire_df = fire_df.withColumnRenamed('Delay', 'ResponseDelayedinMins')"
   ]
  },
  {
   "cell_type": "code",
   "execution_count": 32,
   "metadata": {},
   "outputs": [
    {
     "name": "stdout",
     "output_type": "stream",
     "text": [
      "+--------------------+\n",
      "|ResponseDelaydinMins|\n",
      "+--------------------+\n",
      "|1844.55             |\n",
      "|1370.2333           |\n",
      "|949.11664           |\n",
      "|931.45              |\n",
      "|751.93335           |\n",
      "+--------------------+\n",
      "only showing top 5 rows\n",
      "\n"
     ]
    },
    {
     "name": "stderr",
     "output_type": "stream",
     "text": [
      "                                                                                \r"
     ]
    }
   ],
   "source": [
    "(new_fire_df\n",
    ".select('ResponseDelaydinMins')\n",
    ".where(col('ResponseDelaydinMins') > 5)\n",
    ".orderBy(col('ResponseDelaydinMins'), ascending = False)\n",
    ".show(5, False)\n",
    ")"
   ]
  },
  {
   "cell_type": "code",
   "execution_count": 38,
   "metadata": {},
   "outputs": [
    {
     "name": "stdout",
     "output_type": "stream",
     "text": [
      "+----------+----------+----------------------+\n",
      "|CallDate  |WatchDate |AvailableDtTm         |\n",
      "+----------+----------+----------------------+\n",
      "|01/11/2002|01/10/2002|01/11/2002 01:51:44 AM|\n",
      "|01/11/2002|01/10/2002|01/11/2002 03:01:18 AM|\n",
      "|01/11/2002|01/10/2002|01/11/2002 02:39:50 AM|\n",
      "|01/11/2002|01/10/2002|01/11/2002 04:16:46 AM|\n",
      "|01/11/2002|01/10/2002|01/11/2002 06:01:58 AM|\n",
      "|01/11/2002|01/11/2002|01/11/2002 08:03:26 AM|\n",
      "|01/11/2002|01/11/2002|01/11/2002 09:46:44 AM|\n",
      "|01/11/2002|01/11/2002|01/11/2002 09:58:53 AM|\n",
      "|01/11/2002|01/11/2002|01/11/2002 12:06:57 PM|\n",
      "|01/11/2002|01/11/2002|01/11/2002 01:08:40 PM|\n",
      "+----------+----------+----------------------+\n",
      "only showing top 10 rows\n",
      "\n"
     ]
    }
   ],
   "source": [
    "(new_fire_df\n",
    "    .select('CallDate', 'WatchDate', 'AvailableDtTm')\n",
    "    .show(10, truncate=False))"
   ]
  },
  {
   "cell_type": "code",
   "execution_count": 17,
   "metadata": {},
   "outputs": [],
   "source": [
    "fire_ts_df = (new_fire_df\n",
    "    .withColumn('IncidentDate', to_timestamp(col('CallDate'), 'MM/dd/yyyy'))\n",
    "    .drop('CallDate')\n",
    "    .withColumn('OnWatchDate', to_timestamp(col('WatchDate'), 'MM/dd/yyyy'))\n",
    "    .drop('WatchDate')\n",
    "    .withColumn('AvailableDtTS', to_timestamp(col('AvailableDtTm'), 'MM/dd/yyyy hh:mm:ss a'))\n",
    "    .drop('AvailableDtTm')\n",
    ")"
   ]
  },
  {
   "cell_type": "code",
   "execution_count": 45,
   "metadata": {},
   "outputs": [
    {
     "name": "stdout",
     "output_type": "stream",
     "text": [
      "+-------------------+-------------------+-------------------+\n",
      "|IncidentDate       |OnWatchDate        |AvailableDtTS      |\n",
      "+-------------------+-------------------+-------------------+\n",
      "|2002-01-11 00:00:00|2002-01-10 00:00:00|2002-01-11 01:51:44|\n",
      "|2002-01-11 00:00:00|2002-01-10 00:00:00|2002-01-11 03:01:18|\n",
      "|2002-01-11 00:00:00|2002-01-10 00:00:00|2002-01-11 02:39:50|\n",
      "|2002-01-11 00:00:00|2002-01-10 00:00:00|2002-01-11 04:16:46|\n",
      "|2002-01-11 00:00:00|2002-01-10 00:00:00|2002-01-11 06:01:58|\n",
      "+-------------------+-------------------+-------------------+\n",
      "only showing top 5 rows\n",
      "\n"
     ]
    }
   ],
   "source": [
    "(fire_ts_df\n",
    "    .select('IncidentDate', 'OnWatchDate', 'AvailableDtTS')\n",
    "    .show(5, False)\n",
    ")"
   ]
  },
  {
   "cell_type": "code",
   "execution_count": 46,
   "metadata": {},
   "outputs": [
    {
     "name": "stderr",
     "output_type": "stream",
     "text": [
      "[Stage 21:==============>                                           (1 + 3) / 4]\r"
     ]
    },
    {
     "name": "stdout",
     "output_type": "stream",
     "text": [
      "+------------------+\n",
      "|year(IncidentDate)|\n",
      "+------------------+\n",
      "|              2000|\n",
      "|              2001|\n",
      "|              2002|\n",
      "|              2003|\n",
      "|              2004|\n",
      "|              2005|\n",
      "|              2006|\n",
      "|              2007|\n",
      "|              2008|\n",
      "|              2009|\n",
      "|              2010|\n",
      "|              2011|\n",
      "|              2012|\n",
      "|              2013|\n",
      "|              2014|\n",
      "|              2015|\n",
      "|              2016|\n",
      "|              2017|\n",
      "|              2018|\n",
      "+------------------+\n",
      "\n"
     ]
    },
    {
     "name": "stderr",
     "output_type": "stream",
     "text": [
      "                                                                                \r"
     ]
    }
   ],
   "source": [
    "(fire_ts_df\n",
    "    .select(year('IncidentDate'))\n",
    "    .distinct()\n",
    "    .orderBy(year('IncidentDate'))\n",
    "    .show()\n",
    ")"
   ]
  },
  {
   "cell_type": "code",
   "execution_count": 12,
   "metadata": {},
   "outputs": [
    {
     "name": "stderr",
     "output_type": "stream",
     "text": [
      "[Stage 0:=============================>                             (2 + 2) / 4]\r"
     ]
    },
    {
     "name": "stdout",
     "output_type": "stream",
     "text": [
      "+-------------------------------+------+\n",
      "|CallType                       |count |\n",
      "+-------------------------------+------+\n",
      "|Medical Incident               |113794|\n",
      "|Structure Fire                 |23319 |\n",
      "|Alarms                         |19406 |\n",
      "|Traffic Collision              |7013  |\n",
      "|Citizen Assist / Service Call  |2524  |\n",
      "|Other                          |2166  |\n",
      "|Outside Fire                   |2094  |\n",
      "|Vehicle Fire                   |854   |\n",
      "|Gas Leak (Natural and LP Gases)|764   |\n",
      "|Water Rescue                   |755   |\n",
      "+-------------------------------+------+\n",
      "only showing top 10 rows\n",
      "\n"
     ]
    },
    {
     "name": "stderr",
     "output_type": "stream",
     "text": [
      "                                                                                \r"
     ]
    }
   ],
   "source": [
    "(fire_ts_df\n",
    "    .select('CallType')\n",
    "    .where(col('CallType').isNotNull())\n",
    "    .groupBy('CallType')\n",
    "    .count()\n",
    "    .orderBy('count', ascending = False)\n",
    "    .show(n = 10, truncate = False)\n",
    ")"
   ]
  },
  {
   "cell_type": "code",
   "execution_count": 13,
   "metadata": {},
   "outputs": [],
   "source": [
    "import pyspark.sql.functions as F"
   ]
  },
  {
   "cell_type": "code",
   "execution_count": 18,
   "metadata": {},
   "outputs": [
    {
     "name": "stderr",
     "output_type": "stream",
     "text": [
      "                                                                                \r"
     ]
    },
    {
     "name": "stdout",
     "output_type": "stream",
     "text": [
      "+--------------+--------------------------+--------------------------+--------------------------+\n",
      "|sum(NumAlarms)|avg(ResponseDelayedinMins)|min(ResponseDelayedinMins)|max(ResponseDelayedinMins)|\n",
      "+--------------+--------------------------+--------------------------+--------------------------+\n",
      "|        176170|         3.892364154521585|               0.016666668|                   1844.55|\n",
      "+--------------+--------------------------+--------------------------+--------------------------+\n",
      "\n"
     ]
    }
   ],
   "source": [
    "(fire_ts_df\n",
    "    .select(F.sum('NumAlarms'), F.avg('ResponseDelayedinMins'),\n",
    "            F.min('ResponseDelayedinMins'), F.max('ResponseDelayedinMins'))\n",
    "    .show()\n",
    ")"
   ]
  },
  {
   "cell_type": "markdown",
   "metadata": {},
   "source": [
    "2018년도 신고 전화 유형"
   ]
  },
  {
   "cell_type": "code",
   "execution_count": 23,
   "metadata": {},
   "outputs": [
    {
     "data": {
      "text/plain": [
       "['CallNumber',\n",
       " 'UnitID',\n",
       " 'IncidentNumber',\n",
       " 'CallType',\n",
       " 'CallFinalDisposition',\n",
       " 'Address',\n",
       " 'City',\n",
       " 'Zipcode',\n",
       " 'Battalion',\n",
       " 'StationArea',\n",
       " 'Box',\n",
       " 'OriginalPriority',\n",
       " 'Priority',\n",
       " 'FinalPriority',\n",
       " 'ALSUnit',\n",
       " 'CallTypeGroup',\n",
       " 'NumAlarms',\n",
       " 'UnitType',\n",
       " 'UnitSequenceInCallDispatch',\n",
       " 'FirePreventionDistrict',\n",
       " 'SupervisorDistrict',\n",
       " 'Neighborhood',\n",
       " 'Location',\n",
       " 'RowID',\n",
       " 'ResponseDelayedinMins',\n",
       " 'IncidentDate',\n",
       " 'OnWatchDate',\n",
       " 'AvailableDtTS']"
      ]
     },
     "execution_count": 23,
     "metadata": {},
     "output_type": "execute_result"
    }
   ],
   "source": [
    "(fire_ts_df\n",
    "    .columns)"
   ]
  },
  {
   "cell_type": "code",
   "execution_count": 32,
   "metadata": {},
   "outputs": [
    {
     "ename": "AttributeError",
     "evalue": "'GroupedData' object has no attribute 'show'",
     "output_type": "error",
     "traceback": [
      "\u001b[0;31m---------------------------------------------------------------------------\u001b[0m",
      "\u001b[0;31mAttributeError\u001b[0m                            Traceback (most recent call last)",
      "Cell \u001b[0;32mIn [32], line 5\u001b[0m\n\u001b[1;32m      1\u001b[0m (fire_ts_df\n\u001b[1;32m      2\u001b[0m     \u001b[39m.\u001b[39mselect(\u001b[39m'\u001b[39m\u001b[39mIncidentDate\u001b[39m\u001b[39m'\u001b[39m, \u001b[39m'\u001b[39m\u001b[39mCallType\u001b[39m\u001b[39m'\u001b[39m)\n\u001b[1;32m      3\u001b[0m     \u001b[39m.\u001b[39mwhere(\u001b[39m'\u001b[39m\u001b[39myear(IncidentDate) = 2018\u001b[39m\u001b[39m'\u001b[39m)\n\u001b[1;32m      4\u001b[0m     \u001b[39m.\u001b[39mgroupBy(\u001b[39m'\u001b[39m\u001b[39mCallType\u001b[39m\u001b[39m'\u001b[39m)\n\u001b[0;32m----> 5\u001b[0m     \u001b[39m.\u001b[39mshow()\n\u001b[1;32m      6\u001b[0m )\n",
      "\u001b[0;31mAttributeError\u001b[0m: 'GroupedData' object has no attribute 'show'"
     ]
    }
   ],
   "source": [
    "(fire_ts_df\n",
    "    .select('IncidentDate', 'CallType')\n",
    "    .where('year(IncidentDate) = 2018')\n",
    "    .groupBy('CallType')\n",
    "    .show()\n",
    ")"
   ]
  },
  {
   "cell_type": "code",
   "execution_count": 34,
   "metadata": {},
   "outputs": [
    {
     "name": "stderr",
     "output_type": "stream",
     "text": [
      "[Stage 24:==============>                                           (1 + 3) / 4]\r"
     ]
    },
    {
     "name": "stdout",
     "output_type": "stream",
     "text": [
      "+-----------------+\n",
      "|DisTinctCallTypes|\n",
      "+-----------------+\n",
      "|               30|\n",
      "+-----------------+\n",
      "\n"
     ]
    },
    {
     "name": "stderr",
     "output_type": "stream",
     "text": [
      "                                                                                \r"
     ]
    }
   ],
   "source": [
    "(fire_ts_df\n",
    "    .select('CallType')\n",
    "    .where(col('CallType').isNotNull())\n",
    "    .agg(countDistinct('CallType').alias('DisTinctCallTypes'))\n",
    "    .show()\n",
    ")"
   ]
  },
  {
   "cell_type": "markdown",
   "metadata": {},
   "source": [
    "2018년에 신고 전화가 가장 많았던 달"
   ]
  },
  {
   "cell_type": "code",
   "execution_count": 40,
   "metadata": {},
   "outputs": [
    {
     "name": "stderr",
     "output_type": "stream",
     "text": [
      "[Stage 37:>                                                         (0 + 4) / 4]\r"
     ]
    },
    {
     "name": "stdout",
     "output_type": "stream",
     "text": [
      "+-----+-----+\n",
      "|Month|count|\n",
      "+-----+-----+\n",
      "|   11|  199|\n",
      "+-----+-----+\n",
      "only showing top 1 row\n",
      "\n"
     ]
    },
    {
     "name": "stderr",
     "output_type": "stream",
     "text": [
      "                                                                                \r"
     ]
    }
   ],
   "source": [
    "(fire_ts_df\n",
    "    .filter('year(IncidentDate) = 2018')\n",
    "    .select(month(col('IncidentDate')).alias('Month'))\n",
    "    .groupBy('Month')\n",
    "    .count()\n",
    "    .orderBy(col('count'), ascending = True)\n",
    "    .show(1)\n",
    ")"
   ]
  },
  {
   "cell_type": "markdown",
   "metadata": {},
   "source": [
    "2018년에 가장 많은 신고가 들어온 SF 지역"
   ]
  },
  {
   "cell_type": "code",
   "execution_count": 51,
   "metadata": {},
   "outputs": [
    {
     "name": "stderr",
     "output_type": "stream",
     "text": [
      "[Stage 54:==============>                                           (1 + 3) / 4]\r"
     ]
    },
    {
     "name": "stdout",
     "output_type": "stream",
     "text": [
      "+--------------------+-----+\n",
      "|        Neighborhood|count|\n",
      "+--------------------+-----+\n",
      "|          Tenderloin|22785|\n",
      "|     South of Market|16623|\n",
      "|             Mission|15912|\n",
      "|Financial Distric...|11912|\n",
      "|Bayview Hunters P...| 9616|\n",
      "|     Sunset/Parkside| 6984|\n",
      "|    Western Addition| 6591|\n",
      "|            Nob Hill| 5810|\n",
      "|      Outer Richmond| 4604|\n",
      "|        Hayes Valley| 4357|\n",
      "| Castro/Upper Market| 4176|\n",
      "|  West of Twin Peaks| 4005|\n",
      "|         North Beach| 3800|\n",
      "|           Chinatown| 3731|\n",
      "|           Excelsior| 3643|\n",
      "|     Pacific Heights| 3622|\n",
      "|              Marina| 3415|\n",
      "|        Potrero Hill| 3321|\n",
      "|      Bernal Heights| 3260|\n",
      "|        Inner Sunset| 2959|\n",
      "+--------------------+-----+\n",
      "only showing top 20 rows\n",
      "\n"
     ]
    },
    {
     "name": "stderr",
     "output_type": "stream",
     "text": [
      "                                                                                \r"
     ]
    }
   ],
   "source": [
    "(fire_ts_df\n",
    "    .select('Neighborhood')\n",
    "    .groupBy('Neighborhood')\n",
    "    .count()\n",
    "    .orderBy(col('count'), ascending = False)\n",
    "    .show()\n",
    ")"
   ]
  },
  {
   "cell_type": "code",
   "execution_count": 55,
   "metadata": {},
   "outputs": [
    {
     "ename": "AttributeError",
     "evalue": "'GroupedData' object has no attribute 'show'",
     "output_type": "error",
     "traceback": [
      "\u001b[0;31m---------------------------------------------------------------------------\u001b[0m",
      "\u001b[0;31mAttributeError\u001b[0m                            Traceback (most recent call last)",
      "Cell \u001b[0;32mIn [55], line 4\u001b[0m\n\u001b[1;32m      1\u001b[0m (fire_ts_df\n\u001b[1;32m      2\u001b[0m     \u001b[39m.\u001b[39mselect(year(\u001b[39m'\u001b[39m\u001b[39mIncidentDate\u001b[39m\u001b[39m'\u001b[39m)\u001b[39m.\u001b[39malias(\u001b[39m'\u001b[39m\u001b[39mYear\u001b[39m\u001b[39m'\u001b[39m))\n\u001b[1;32m      3\u001b[0m     \u001b[39m.\u001b[39mgroupBy(\u001b[39m'\u001b[39m\u001b[39mYear\u001b[39m\u001b[39m'\u001b[39m)\n\u001b[0;32m----> 4\u001b[0m     \u001b[39m.\u001b[39mshow()\n\u001b[1;32m      5\u001b[0m )\n",
      "\u001b[0;31mAttributeError\u001b[0m: 'GroupedData' object has no attribute 'show'"
     ]
    }
   ],
   "source": [
    "(fire_ts_df\n",
    "    .select(year('IncidentDate').alias('Year'))\n",
    "    .groupBy('Year')\n",
    "    .agg()\n",
    ")"
   ]
  },
  {
   "cell_type": "code",
   "execution_count": 58,
   "metadata": {},
   "outputs": [
    {
     "name": "stderr",
     "output_type": "stream",
     "text": [
      "[Stage 58:==============>                                           (1 + 3) / 4]\r"
     ]
    },
    {
     "name": "stdout",
     "output_type": "stream",
     "text": [
      "+--------------------+--------------------------+\n",
      "|        Neighborhood|avg(ResponseDelayedinMins)|\n",
      "+--------------------+--------------------------+\n",
      "|        Inner Sunset|         4.438095217981896|\n",
      "|      Haight Ashbury|         4.266428579390049|\n",
      "|        Lincoln Park|        3.3111111190583973|\n",
      "|           Japantown|         3.347695054526025|\n",
      "|                None|         3.363333320617676|\n",
      "|         North Beach|         3.889249638303534|\n",
      "|   Lone Mountain/USF|        3.2472222397724786|\n",
      "|    Western Addition|        3.2843276457861066|\n",
      "|      Bernal Heights|        3.8464705796802745|\n",
      "|         Mission Bay|         3.854868933558464|\n",
      "|        Hayes Valley|        3.3703894590082037|\n",
      "|Financial Distric...|         4.344084616885593|\n",
      "|           Lakeshore|         3.881551365057627|\n",
      "|Bayview Hunters P...|         4.620561962212182|\n",
      "|   Visitacion Valley|        3.4838095208009086|\n",
      "|      Inner Richmond|         4.364728709292966|\n",
      "|            Nob Hill|         3.799999982320656|\n",
      "|Oceanview/Merced/...|         3.947242203912289|\n",
      "|      Outer Richmond|        3.6480915955346047|\n",
      "|     Treasure Island|         5.453703684111436|\n",
      "+--------------------+--------------------------+\n",
      "only showing top 20 rows\n",
      "\n"
     ]
    },
    {
     "name": "stderr",
     "output_type": "stream",
     "text": [
      "                                                                                \r"
     ]
    }
   ],
   "source": [
    "(fire_ts_df\n",
    "    .filter(year('IncidentDate') == 2018)\n",
    "    .select('Neighborhood', 'ResponseDelayedinMins')\n",
    "    .groupBy('Neighborhood')\n",
    "    .agg(F.avg('ResponseDelayedinMins'))\n",
    "    .show()\n",
    ")"
   ]
  },
  {
   "cell_type": "code",
   "execution_count": 59,
   "metadata": {},
   "outputs": [
    {
     "name": "stderr",
     "output_type": "stream",
     "text": [
      "[Stage 61:>                                                         (0 + 4) / 4]\r"
     ]
    },
    {
     "name": "stdout",
     "output_type": "stream",
     "text": [
      "+------------------------+-----+\n",
      "|weekofyear(IncidentDate)|count|\n",
      "+------------------------+-----+\n",
      "|                      22|  259|\n",
      "|                      40|  255|\n",
      "|                      43|  250|\n",
      "|                      25|  249|\n",
      "|                       1|  246|\n",
      "|                      44|  244|\n",
      "|                      13|  243|\n",
      "|                      32|  243|\n",
      "|                      11|  240|\n",
      "|                       5|  236|\n",
      "|                      18|  236|\n",
      "|                      23|  235|\n",
      "|                      42|  234|\n",
      "|                       2|  234|\n",
      "|                      31|  234|\n",
      "|                      19|  233|\n",
      "|                      34|  232|\n",
      "|                       8|  232|\n",
      "|                      10|  232|\n",
      "|                      28|  231|\n",
      "+------------------------+-----+\n",
      "only showing top 20 rows\n",
      "\n"
     ]
    },
    {
     "name": "stderr",
     "output_type": "stream",
     "text": [
      "                                                                                \r"
     ]
    }
   ],
   "source": [
    "(fire_ts_df\n",
    "    .filter(year('IncidentDate') == 2018)\n",
    "    .groupBy(weekofyear('IncidentDate'))\n",
    "    .count()\n",
    "    .orderBy('count', ascending = False)\n",
    "    .show()\n",
    ")"
   ]
  },
  {
   "cell_type": "code",
   "execution_count": 60,
   "metadata": {},
   "outputs": [
    {
     "name": "stderr",
     "output_type": "stream",
     "text": [
      "                                                                                \r"
     ]
    }
   ],
   "source": [
    "fire_ts_df.write.format('parquet').mode('overwrite').save('/tmp/fireServiceParquet')"
   ]
  }
 ],
 "metadata": {
  "kernelspec": {
   "display_name": "Python 3.10.7 64-bit",
   "language": "python",
   "name": "python3"
  },
  "language_info": {
   "codemirror_mode": {
    "name": "ipython",
    "version": 3
   },
   "file_extension": ".py",
   "mimetype": "text/x-python",
   "name": "python",
   "nbconvert_exporter": "python",
   "pygments_lexer": "ipython3",
   "version": "3.10.7"
  },
  "orig_nbformat": 4,
  "vscode": {
   "interpreter": {
    "hash": "98590ff4fe04c8543246b2a01debd3de3c5ca9b666f43f1fa87d5110c692004c"
   }
  }
 },
 "nbformat": 4,
 "nbformat_minor": 2
}
